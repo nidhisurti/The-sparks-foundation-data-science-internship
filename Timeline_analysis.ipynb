{
  "nbformat": 4,
  "nbformat_minor": 0,
  "metadata": {
    "colab": {
      "name": "Timeline analysis.ipynb",
      "provenance": []
    },
    "kernelspec": {
      "name": "python3",
      "display_name": "Python 3"
    },
    "language_info": {
      "name": "python"
    }
  },
  "cells": [
    {
      "cell_type": "code",
      "execution_count": 2,
      "metadata": {
        "colab": {
          "base_uri": "https://localhost:8080/",
          "height": 17
        },
        "id": "OzjJic3azq1-",
        "outputId": "4b28f149-1047-4541-f66a-1c0e590d0485"
      },
      "outputs": [
        {
          "output_type": "display_data",
          "data": {
            "text/html": [
              "        <script type=\"text/javascript\">\n",
              "        window.PlotlyConfig = {MathJaxConfig: 'local'};\n",
              "        if (window.MathJax) {MathJax.Hub.Config({SVG: {font: \"STIX-Web\"}});}\n",
              "        if (typeof require !== 'undefined') {\n",
              "        require.undef(\"plotly\");\n",
              "        requirejs.config({\n",
              "            paths: {\n",
              "                'plotly': ['https://cdn.plot.ly/plotly-2.8.3.min']\n",
              "            }\n",
              "        });\n",
              "        require(['plotly'], function(Plotly) {\n",
              "            window._Plotly = Plotly;\n",
              "        });\n",
              "        }\n",
              "        </script>\n",
              "        "
            ]
          },
          "metadata": {}
        },
        {
          "output_type": "display_data",
          "data": {
            "text/html": [
              "        <script type=\"text/javascript\">\n",
              "        window.PlotlyConfig = {MathJaxConfig: 'local'};\n",
              "        if (window.MathJax) {MathJax.Hub.Config({SVG: {font: \"STIX-Web\"}});}\n",
              "        if (typeof require !== 'undefined') {\n",
              "        require.undef(\"plotly\");\n",
              "        requirejs.config({\n",
              "            paths: {\n",
              "                'plotly': ['https://cdn.plot.ly/plotly-2.8.3.min']\n",
              "            }\n",
              "        });\n",
              "        require(['plotly'], function(Plotly) {\n",
              "            window._Plotly = Plotly;\n",
              "        });\n",
              "        }\n",
              "        </script>\n",
              "        "
            ]
          },
          "metadata": {}
        }
      ],
      "source": [
        "import pandas as pd\n",
        "import numpy as np\n",
        "import matplotlib.pyplot as plt\n",
        "from IPython.display import Markdown, display\n",
        "from datetime import datetime as d\n",
        "from ipywidgets import interact,interactive,fixed,interact_manual\n",
        "import ipywidgets as widgets\n",
        "\n",
        "import plotly.graph_objs as go\n",
        "from plotly.offline import iplot, init_notebook_mode\n",
        "import cufflinks\n",
        "from plotly.subplots import make_subplots\n",
        "import dateutil\n",
        "import plotly.express as px\n",
        "import plotly.io as pio\n",
        "import datetime\n",
        "from statistics import mean \n",
        "import datetime as dt\n",
        "import requests\n",
        "from itertools import chain\n",
        "import plotly.graph_objects as go\n",
        "from plotly.subplots import make_subplots\n",
        "import folium\n",
        "from folium import plugins\n",
        "import os\n",
        "import sys\n",
        "from scipy.optimize import curve_fit\n",
        "from sklearn.metrics import mean_squared_log_error\n",
        "from sklearn.metrics import r2_score\n",
        "cufflinks.go_offline(connected=True)\n",
        "init_notebook_mode(connected=True)\n",
        "%matplotlib inline"
      ]
    },
    {
      "cell_type": "markdown",
      "source": [
        "COVID19 SPREAD WORLDWIDE"
      ],
      "metadata": {
        "id": "7vgnEjg20B4G"
      }
    },
    {
      "cell_type": "code",
      "source": [
        "import pandas as pd\n",
        "from google.colab import files"
      ],
      "metadata": {
        "id": "Bhrkt2Q90G-m"
      },
      "execution_count": 3,
      "outputs": []
    },
    {
      "cell_type": "code",
      "source": [
        "uploaded = files.upload()"
      ],
      "metadata": {
        "colab": {
          "resources": {
            "http://localhost:8080/nbextensions/google.colab/files.js": {
              "data": "Ly8gQ29weXJpZ2h0IDIwMTcgR29vZ2xlIExMQwovLwovLyBMaWNlbnNlZCB1bmRlciB0aGUgQXBhY2hlIExpY2Vuc2UsIFZlcnNpb24gMi4wICh0aGUgIkxpY2Vuc2UiKTsKLy8geW91IG1heSBub3QgdXNlIHRoaXMgZmlsZSBleGNlcHQgaW4gY29tcGxpYW5jZSB3aXRoIHRoZSBMaWNlbnNlLgovLyBZb3UgbWF5IG9idGFpbiBhIGNvcHkgb2YgdGhlIExpY2Vuc2UgYXQKLy8KLy8gICAgICBodHRwOi8vd3d3LmFwYWNoZS5vcmcvbGljZW5zZXMvTElDRU5TRS0yLjAKLy8KLy8gVW5sZXNzIHJlcXVpcmVkIGJ5IGFwcGxpY2FibGUgbGF3IG9yIGFncmVlZCB0byBpbiB3cml0aW5nLCBzb2Z0d2FyZQovLyBkaXN0cmlidXRlZCB1bmRlciB0aGUgTGljZW5zZSBpcyBkaXN0cmlidXRlZCBvbiBhbiAiQVMgSVMiIEJBU0lTLAovLyBXSVRIT1VUIFdBUlJBTlRJRVMgT1IgQ09ORElUSU9OUyBPRiBBTlkgS0lORCwgZWl0aGVyIGV4cHJlc3Mgb3IgaW1wbGllZC4KLy8gU2VlIHRoZSBMaWNlbnNlIGZvciB0aGUgc3BlY2lmaWMgbGFuZ3VhZ2UgZ292ZXJuaW5nIHBlcm1pc3Npb25zIGFuZAovLyBsaW1pdGF0aW9ucyB1bmRlciB0aGUgTGljZW5zZS4KCi8qKgogKiBAZmlsZW92ZXJ2aWV3IEhlbHBlcnMgZm9yIGdvb2dsZS5jb2xhYiBQeXRob24gbW9kdWxlLgogKi8KKGZ1bmN0aW9uKHNjb3BlKSB7CmZ1bmN0aW9uIHNwYW4odGV4dCwgc3R5bGVBdHRyaWJ1dGVzID0ge30pIHsKICBjb25zdCBlbGVtZW50ID0gZG9jdW1lbnQuY3JlYXRlRWxlbWVudCgnc3BhbicpOwogIGVsZW1lbnQudGV4dENvbnRlbnQgPSB0ZXh0OwogIGZvciAoY29uc3Qga2V5IG9mIE9iamVjdC5rZXlzKHN0eWxlQXR0cmlidXRlcykpIHsKICAgIGVsZW1lbnQuc3R5bGVba2V5XSA9IHN0eWxlQXR0cmlidXRlc1trZXldOwogIH0KICByZXR1cm4gZWxlbWVudDsKfQoKLy8gTWF4IG51bWJlciBvZiBieXRlcyB3aGljaCB3aWxsIGJlIHVwbG9hZGVkIGF0IGEgdGltZS4KY29uc3QgTUFYX1BBWUxPQURfU0laRSA9IDEwMCAqIDEwMjQ7CgpmdW5jdGlvbiBfdXBsb2FkRmlsZXMoaW5wdXRJZCwgb3V0cHV0SWQpIHsKICBjb25zdCBzdGVwcyA9IHVwbG9hZEZpbGVzU3RlcChpbnB1dElkLCBvdXRwdXRJZCk7CiAgY29uc3Qgb3V0cHV0RWxlbWVudCA9IGRvY3VtZW50LmdldEVsZW1lbnRCeUlkKG91dHB1dElkKTsKICAvLyBDYWNoZSBzdGVwcyBvbiB0aGUgb3V0cHV0RWxlbWVudCB0byBtYWtlIGl0IGF2YWlsYWJsZSBmb3IgdGhlIG5leHQgY2FsbAogIC8vIHRvIHVwbG9hZEZpbGVzQ29udGludWUgZnJvbSBQeXRob24uCiAgb3V0cHV0RWxlbWVudC5zdGVwcyA9IHN0ZXBzOwoKICByZXR1cm4gX3VwbG9hZEZpbGVzQ29udGludWUob3V0cHV0SWQpOwp9CgovLyBUaGlzIGlzIHJvdWdobHkgYW4gYXN5bmMgZ2VuZXJhdG9yIChub3Qgc3VwcG9ydGVkIGluIHRoZSBicm93c2VyIHlldCksCi8vIHdoZXJlIHRoZXJlIGFyZSBtdWx0aXBsZSBhc3luY2hyb25vdXMgc3RlcHMgYW5kIHRoZSBQeXRob24gc2lkZSBpcyBnb2luZwovLyB0byBwb2xsIGZvciBjb21wbGV0aW9uIG9mIGVhY2ggc3RlcC4KLy8gVGhpcyB1c2VzIGEgUHJvbWlzZSB0byBibG9jayB0aGUgcHl0aG9uIHNpZGUgb24gY29tcGxldGlvbiBvZiBlYWNoIHN0ZXAsCi8vIHRoZW4gcGFzc2VzIHRoZSByZXN1bHQgb2YgdGhlIHByZXZpb3VzIHN0ZXAgYXMgdGhlIGlucHV0IHRvIHRoZSBuZXh0IHN0ZXAuCmZ1bmN0aW9uIF91cGxvYWRGaWxlc0NvbnRpbnVlKG91dHB1dElkKSB7CiAgY29uc3Qgb3V0cHV0RWxlbWVudCA9IGRvY3VtZW50LmdldEVsZW1lbnRCeUlkKG91dHB1dElkKTsKICBjb25zdCBzdGVwcyA9IG91dHB1dEVsZW1lbnQuc3RlcHM7CgogIGNvbnN0IG5leHQgPSBzdGVwcy5uZXh0KG91dHB1dEVsZW1lbnQubGFzdFByb21pc2VWYWx1ZSk7CiAgcmV0dXJuIFByb21pc2UucmVzb2x2ZShuZXh0LnZhbHVlLnByb21pc2UpLnRoZW4oKHZhbHVlKSA9PiB7CiAgICAvLyBDYWNoZSB0aGUgbGFzdCBwcm9taXNlIHZhbHVlIHRvIG1ha2UgaXQgYXZhaWxhYmxlIHRvIHRoZSBuZXh0CiAgICAvLyBzdGVwIG9mIHRoZSBnZW5lcmF0b3IuCiAgICBvdXRwdXRFbGVtZW50Lmxhc3RQcm9taXNlVmFsdWUgPSB2YWx1ZTsKICAgIHJldHVybiBuZXh0LnZhbHVlLnJlc3BvbnNlOwogIH0pOwp9CgovKioKICogR2VuZXJhdG9yIGZ1bmN0aW9uIHdoaWNoIGlzIGNhbGxlZCBiZXR3ZWVuIGVhY2ggYXN5bmMgc3RlcCBvZiB0aGUgdXBsb2FkCiAqIHByb2Nlc3MuCiAqIEBwYXJhbSB7c3RyaW5nfSBpbnB1dElkIEVsZW1lbnQgSUQgb2YgdGhlIGlucHV0IGZpbGUgcGlja2VyIGVsZW1lbnQuCiAqIEBwYXJhbSB7c3RyaW5nfSBvdXRwdXRJZCBFbGVtZW50IElEIG9mIHRoZSBvdXRwdXQgZGlzcGxheS4KICogQHJldHVybiB7IUl0ZXJhYmxlPCFPYmplY3Q+fSBJdGVyYWJsZSBvZiBuZXh0IHN0ZXBzLgogKi8KZnVuY3Rpb24qIHVwbG9hZEZpbGVzU3RlcChpbnB1dElkLCBvdXRwdXRJZCkgewogIGNvbnN0IGlucHV0RWxlbWVudCA9IGRvY3VtZW50LmdldEVsZW1lbnRCeUlkKGlucHV0SWQpOwogIGlucHV0RWxlbWVudC5kaXNhYmxlZCA9IGZhbHNlOwoKICBjb25zdCBvdXRwdXRFbGVtZW50ID0gZG9jdW1lbnQuZ2V0RWxlbWVudEJ5SWQob3V0cHV0SWQpOwogIG91dHB1dEVsZW1lbnQuaW5uZXJIVE1MID0gJyc7CgogIGNvbnN0IHBpY2tlZFByb21pc2UgPSBuZXcgUHJvbWlzZSgocmVzb2x2ZSkgPT4gewogICAgaW5wdXRFbGVtZW50LmFkZEV2ZW50TGlzdGVuZXIoJ2NoYW5nZScsIChlKSA9PiB7CiAgICAgIHJlc29sdmUoZS50YXJnZXQuZmlsZXMpOwogICAgfSk7CiAgfSk7CgogIGNvbnN0IGNhbmNlbCA9IGRvY3VtZW50LmNyZWF0ZUVsZW1lbnQoJ2J1dHRvbicpOwogIGlucHV0RWxlbWVudC5wYXJlbnRFbGVtZW50LmFwcGVuZENoaWxkKGNhbmNlbCk7CiAgY2FuY2VsLnRleHRDb250ZW50ID0gJ0NhbmNlbCB1cGxvYWQnOwogIGNvbnN0IGNhbmNlbFByb21pc2UgPSBuZXcgUHJvbWlzZSgocmVzb2x2ZSkgPT4gewogICAgY2FuY2VsLm9uY2xpY2sgPSAoKSA9PiB7CiAgICAgIHJlc29sdmUobnVsbCk7CiAgICB9OwogIH0pOwoKICAvLyBXYWl0IGZvciB0aGUgdXNlciB0byBwaWNrIHRoZSBmaWxlcy4KICBjb25zdCBmaWxlcyA9IHlpZWxkIHsKICAgIHByb21pc2U6IFByb21pc2UucmFjZShbcGlja2VkUHJvbWlzZSwgY2FuY2VsUHJvbWlzZV0pLAogICAgcmVzcG9uc2U6IHsKICAgICAgYWN0aW9uOiAnc3RhcnRpbmcnLAogICAgfQogIH07CgogIGNhbmNlbC5yZW1vdmUoKTsKCiAgLy8gRGlzYWJsZSB0aGUgaW5wdXQgZWxlbWVudCBzaW5jZSBmdXJ0aGVyIHBpY2tzIGFyZSBub3QgYWxsb3dlZC4KICBpbnB1dEVsZW1lbnQuZGlzYWJsZWQgPSB0cnVlOwoKICBpZiAoIWZpbGVzKSB7CiAgICByZXR1cm4gewogICAgICByZXNwb25zZTogewogICAgICAgIGFjdGlvbjogJ2NvbXBsZXRlJywKICAgICAgfQogICAgfTsKICB9CgogIGZvciAoY29uc3QgZmlsZSBvZiBmaWxlcykgewogICAgY29uc3QgbGkgPSBkb2N1bWVudC5jcmVhdGVFbGVtZW50KCdsaScpOwogICAgbGkuYXBwZW5kKHNwYW4oZmlsZS5uYW1lLCB7Zm9udFdlaWdodDogJ2JvbGQnfSkpOwogICAgbGkuYXBwZW5kKHNwYW4oCiAgICAgICAgYCgke2ZpbGUudHlwZSB8fCAnbi9hJ30pIC0gJHtmaWxlLnNpemV9IGJ5dGVzLCBgICsKICAgICAgICBgbGFzdCBtb2RpZmllZDogJHsKICAgICAgICAgICAgZmlsZS5sYXN0TW9kaWZpZWREYXRlID8gZmlsZS5sYXN0TW9kaWZpZWREYXRlLnRvTG9jYWxlRGF0ZVN0cmluZygpIDoKICAgICAgICAgICAgICAgICAgICAgICAgICAgICAgICAgICAgJ24vYSd9IC0gYCkpOwogICAgY29uc3QgcGVyY2VudCA9IHNwYW4oJzAlIGRvbmUnKTsKICAgIGxpLmFwcGVuZENoaWxkKHBlcmNlbnQpOwoKICAgIG91dHB1dEVsZW1lbnQuYXBwZW5kQ2hpbGQobGkpOwoKICAgIGNvbnN0IGZpbGVEYXRhUHJvbWlzZSA9IG5ldyBQcm9taXNlKChyZXNvbHZlKSA9PiB7CiAgICAgIGNvbnN0IHJlYWRlciA9IG5ldyBGaWxlUmVhZGVyKCk7CiAgICAgIHJlYWRlci5vbmxvYWQgPSAoZSkgPT4gewogICAgICAgIHJlc29sdmUoZS50YXJnZXQucmVzdWx0KTsKICAgICAgfTsKICAgICAgcmVhZGVyLnJlYWRBc0FycmF5QnVmZmVyKGZpbGUpOwogICAgfSk7CiAgICAvLyBXYWl0IGZvciB0aGUgZGF0YSB0byBiZSByZWFkeS4KICAgIGxldCBmaWxlRGF0YSA9IHlpZWxkIHsKICAgICAgcHJvbWlzZTogZmlsZURhdGFQcm9taXNlLAogICAgICByZXNwb25zZTogewogICAgICAgIGFjdGlvbjogJ2NvbnRpbnVlJywKICAgICAgfQogICAgfTsKCiAgICAvLyBVc2UgYSBjaHVua2VkIHNlbmRpbmcgdG8gYXZvaWQgbWVzc2FnZSBzaXplIGxpbWl0cy4gU2VlIGIvNjIxMTU2NjAuCiAgICBsZXQgcG9zaXRpb24gPSAwOwogICAgZG8gewogICAgICBjb25zdCBsZW5ndGggPSBNYXRoLm1pbihmaWxlRGF0YS5ieXRlTGVuZ3RoIC0gcG9zaXRpb24sIE1BWF9QQVlMT0FEX1NJWkUpOwogICAgICBjb25zdCBjaHVuayA9IG5ldyBVaW50OEFycmF5KGZpbGVEYXRhLCBwb3NpdGlvbiwgbGVuZ3RoKTsKICAgICAgcG9zaXRpb24gKz0gbGVuZ3RoOwoKICAgICAgY29uc3QgYmFzZTY0ID0gYnRvYShTdHJpbmcuZnJvbUNoYXJDb2RlLmFwcGx5KG51bGwsIGNodW5rKSk7CiAgICAgIHlpZWxkIHsKICAgICAgICByZXNwb25zZTogewogICAgICAgICAgYWN0aW9uOiAnYXBwZW5kJywKICAgICAgICAgIGZpbGU6IGZpbGUubmFtZSwKICAgICAgICAgIGRhdGE6IGJhc2U2NCwKICAgICAgICB9LAogICAgICB9OwoKICAgICAgbGV0IHBlcmNlbnREb25lID0gZmlsZURhdGEuYnl0ZUxlbmd0aCA9PT0gMCA/CiAgICAgICAgICAxMDAgOgogICAgICAgICAgTWF0aC5yb3VuZCgocG9zaXRpb24gLyBmaWxlRGF0YS5ieXRlTGVuZ3RoKSAqIDEwMCk7CiAgICAgIHBlcmNlbnQudGV4dENvbnRlbnQgPSBgJHtwZXJjZW50RG9uZX0lIGRvbmVgOwoKICAgIH0gd2hpbGUgKHBvc2l0aW9uIDwgZmlsZURhdGEuYnl0ZUxlbmd0aCk7CiAgfQoKICAvLyBBbGwgZG9uZS4KICB5aWVsZCB7CiAgICByZXNwb25zZTogewogICAgICBhY3Rpb246ICdjb21wbGV0ZScsCiAgICB9CiAgfTsKfQoKc2NvcGUuZ29vZ2xlID0gc2NvcGUuZ29vZ2xlIHx8IHt9OwpzY29wZS5nb29nbGUuY29sYWIgPSBzY29wZS5nb29nbGUuY29sYWIgfHwge307CnNjb3BlLmdvb2dsZS5jb2xhYi5fZmlsZXMgPSB7CiAgX3VwbG9hZEZpbGVzLAogIF91cGxvYWRGaWxlc0NvbnRpbnVlLAp9Owp9KShzZWxmKTsK",
              "ok": true,
              "headers": [
                [
                  "content-type",
                  "application/javascript"
                ]
              ],
              "status": 200,
              "status_text": ""
            }
          },
          "base_uri": "https://localhost:8080/",
          "height": 73
        },
        "id": "8Z4w8PsN0rT8",
        "outputId": "f6b0a420-17b7-49d4-de22-4fccf94f6f93"
      },
      "execution_count": 5,
      "outputs": [
        {
          "output_type": "display_data",
          "data": {
            "text/plain": [
              "<IPython.core.display.HTML object>"
            ],
            "text/html": [
              "\n",
              "     <input type=\"file\" id=\"files-3f73dcfd-56bf-4510-9ed0-edb0194001bd\" name=\"files[]\" multiple disabled\n",
              "        style=\"border:none\" />\n",
              "     <output id=\"result-3f73dcfd-56bf-4510-9ed0-edb0194001bd\">\n",
              "      Upload widget is only available when the cell has been executed in the\n",
              "      current browser session. Please rerun this cell to enable.\n",
              "      </output>\n",
              "      <script src=\"/nbextensions/google.colab/files.js\"></script> "
            ]
          },
          "metadata": {}
        },
        {
          "output_type": "stream",
          "name": "stdout",
          "text": [
            "Saving owid-covid-data.csv to owid-covid-data.csv\n"
          ]
        }
      ]
    },
    {
      "cell_type": "code",
      "source": [
        "for fn in uploaded.keys():\n",
        "  print('User uploaded file \"{name}\" with length {length} bytes'.format(\n",
        "      name=fn, length=len(uploaded[fn])\n",
        "  ))"
      ],
      "metadata": {
        "colab": {
          "base_uri": "https://localhost:8080/"
        },
        "id": "Zf3wd8nlQPTQ",
        "outputId": "edacf956-179c-40c7-cd8b-4d3def20876e"
      },
      "execution_count": 6,
      "outputs": [
        {
          "output_type": "stream",
          "name": "stdout",
          "text": [
            "User uploaded file \"owid-covid-data.csv\" with length 57453504 bytes\n"
          ]
        }
      ]
    },
    {
      "cell_type": "code",
      "source": [
        "uploaded"
      ],
      "metadata": {
        "id": "JaODueqjQfLE"
      },
      "execution_count": 7,
      "outputs": []
    },
    {
      "cell_type": "code",
      "source": [
        "open('owid-covid-data.csv', encoding='latin-1')"
      ],
      "metadata": {
        "colab": {
          "base_uri": "https://localhost:8080/"
        },
        "id": "eEPTTCyFQ3Xb",
        "outputId": "5eef235b-f1f7-4dfd-9d94-4fa144b6f29f"
      },
      "execution_count": 8,
      "outputs": [
        {
          "output_type": "execute_result",
          "data": {
            "text/plain": [
              "<_io.TextIOWrapper name='owid-covid-data.csv' mode='r' encoding='latin-1'>"
            ]
          },
          "metadata": {},
          "execution_count": 8
        }
      ]
    },
    {
      "cell_type": "code",
      "source": [
        "import pandas as pd\n",
        "full =pd.read_csv('owid-covid-data.csv', encoding='ISO-8859-1')"
      ],
      "metadata": {
        "id": "4rQncAKJRBzj"
      },
      "execution_count": 9,
      "outputs": []
    },
    {
      "cell_type": "code",
      "source": [
        "full = pd.read_csv(\"owid-covid-data.csv\")\n",
        "full = full[full['new_cases'].notna()]\n",
        "full_ = full.groupby(\"date\" ,as_index=False)[['new_cases','new_deaths']].sum()\n",
        "full_[\"Date\"] = pd.to_datetime(full_['date'])\n",
        "full_['Week_Number'] = full_['Date'].dt.week\n",
        "full__ = full_.groupby(\"Week_Number\" ,as_index=False)[['new_cases','new_deaths']].mean()"
      ],
      "metadata": {
        "id": "fq8uGva80A_V",
        "colab": {
          "base_uri": "https://localhost:8080/"
        },
        "outputId": "ad23b8bf-0207-4769-f768-b9c1fe8e8fed"
      },
      "execution_count": 10,
      "outputs": [
        {
          "output_type": "stream",
          "name": "stderr",
          "text": [
            "/usr/local/lib/python3.7/dist-packages/ipykernel_launcher.py:5: FutureWarning:\n",
            "\n",
            "Series.dt.weekofyear and Series.dt.week have been deprecated.  Please use Series.dt.isocalendar().week instead.\n",
            "\n"
          ]
        }
      ]
    },
    {
      "cell_type": "code",
      "source": [
        "fig = px.bar(full_,x='date', y='new_cases', orientation='v',title = \"COVID19-  daily new cases\",\n",
        "             labels=dict(x=\"Date\", y=\"Count\"))\n",
        "fig.show()"
      ],
      "metadata": {
        "id": "RdiygVWmRWDk"
      },
      "execution_count": null,
      "outputs": []
    },
    {
      "cell_type": "code",
      "source": [
        "fig = px.line(x=full__[\"Week_Number\"], y=full__[\"new_cases\"], title = \"7-day average of daily new cases\",\n",
        "             labels=dict(x=\"Week\", y=\"Count\"))\n",
        "fig.show()"
      ],
      "metadata": {
        "id": "6R3G55rYRXRT"
      },
      "execution_count": null,
      "outputs": []
    },
    {
      "cell_type": "code",
      "source": [
        "\n",
        "df = pd.read_csv(\"owid-covid-data.csv\")\n",
        "df.rename(columns={'ObservationDate':'Date','Province/State':'Province_State',\n",
        "                   'Country/Region':'Country_Region','Confirmed':'ConfirmedCases',\n",
        "                   'Deaths':'Fatalities'},inplace=True)\n",
        "\n",
        "\n",
        "df_world = df.copy()\n"
      ],
      "metadata": {
        "id": "6ZHJzcIXRrH4"
      },
      "execution_count": 16,
      "outputs": []
    },
    {
      "cell_type": "code",
      "source": [
        "l = [df_world.columns.to_list()[1] , df_world.columns.to_list()[2] ,df_world.columns.to_list()[3]]\n",
        "fig = go.Figure()\n",
        "\n",
        "for column in l:\n",
        "    fig.add_trace(\n",
        "        go.Scatter(\n",
        "            x = df_world['Date'],\n",
        "            y = df_world[column],\n",
        "            name = column\n",
        "        )\n",
        "    )\n",
        "fig.update_layout(\n",
        "    updatemenus=[go.layout.Updatemenu(\n",
        "        active=0,\n",
        "        buttons=list(\n",
        "            [dict(label = 'All',\n",
        "                  method = 'update',\n",
        "                  args = [{'visible': [True, True,True]},\n",
        "                          {'title': 'All',\n",
        "                           'showlegend':True}]),\n",
        "             dict(label = 'ConfirmedCases',\n",
        "                  method = 'update',\n",
        "                  args = [{'visible': [True, False,False]}, \n",
        "                          {'title': 'ConfirmedCases',\n",
        "                           'showlegend':True}]),\n",
        "             dict(label = 'Fatalities',\n",
        "                  method = 'update',\n",
        "                  args = [{'visible': [False,True,False]},\n",
        "                          {'title': 'Fatalities',\n",
        "                           'showlegend':True}]),\n",
        "              dict(label = 'Recovered',\n",
        "                  method = 'update',\n",
        "                  args = [{'visible': [False,False,True]},\n",
        "                          {'title': 'Recovered',\n",
        "                           'showlegend':True}]),\n",
        "            ])\n",
        "        )\n",
        "    ])\n",
        "\n",
        "fig.show()\n"
      ],
      "metadata": {
        "id": "t38yZePLSW8a"
      },
      "execution_count": null,
      "outputs": []
    },
    {
      "cell_type": "code",
      "source": [
        "#Get the top 5 countries\n",
        "last_date = df.Date.max()\n",
        "df_countries = df[df['Date']==last_date]\n",
        "df_countries = df_countries.groupby('Country_Region', as_index=False)['ConfirmedCases','Fatalities','Recovered'].sum()\n",
        "df_countries = df_countries.sort_values(by = 'ConfirmedCases',ascending =False)\n",
        "df_trend = df.groupby(['Date','Country_Region'], as_index=False)['ConfirmedCases','Fatalities','Recovered'].sum()\n",
        "top5 = df_trend.loc[df_trend['Country_Region'].isin(['US', 'Brazil', 'India', 'Russia', 'Colombia'])]\n",
        "figa = px.line(top5, x='Date', y='ConfirmedCases', color='Country_Region', title='COVID19- Top 5 worst affected countries')\n",
        "figa.show()"
      ],
      "metadata": {
        "id": "hhEgtUpCSdj5"
      },
      "execution_count": null,
      "outputs": []
    },
    {
      "cell_type": "code",
      "source": [
        "df_countries_fatal = df_countries.sort_values(by = 'Fatalities',ascending =False)\n",
        "top5_f = df_trend.loc[df_trend['Country_Region'].isin(['US', 'Brazil', 'India', 'Mexico', 'UK'])]\n",
        "figb = px.line(top5_f, x='Date', y='Fatalities', color='Country_Region', title='COVID19- Top 5 countries with highest no. of deaths')\n",
        "figb.show()"
      ],
      "metadata": {
        "id": "YaQ7FbkjShO0"
      },
      "execution_count": null,
      "outputs": []
    },
    {
      "cell_type": "code",
      "source": [
        "d1 = pd.read_csv('owid-covid-data.csv')\n",
        "\n",
        "d1['COVID_SPREAD'] = 'Recovered: ' + d1['Recovered'].astype(str) +'  Deceased: ' + d1['Deaths'].astype(str) \n",
        "d11 = d1.drop(0,)\n",
        "\n",
        "\n",
        "cord = pd.read_csv(\"Indian Coordinates.csv\")\n",
        "cord.rename(columns={\"Name of State / UT\" :\"State\"},inplace = True)\n",
        "cord = cord.drop(7).reset_index()\n",
        "cord[\"State\"]= cord[\"State\"].replace({\"Delhi\": \"NCT of Delhi\", \"Andaman and Nicobar\" : \"Andaman and Nicobar Island\" , \"Pondicherry\" : \"Puducherry\", \"Arunachal Pradesh\":\"Arunanchal Pradesh\"  })  \n",
        "final = pd.merge(d11,cord,on = \"State\")\n",
        "final[\"Confirmed\"] = final[\"Confirmed\"].astype(float)"
      ],
      "metadata": {
        "id": "9RP95n4bSmpl"
      },
      "execution_count": null,
      "outputs": []
    },
    {
      "cell_type": "code",
      "source": [
        "m = folium.Map(location=[20,80], tiles=\"Stamen Terrain\", zoom_start=4)\n",
        "\n",
        "for Latitude, Longitude, State, Confirmed in zip(final.Latitude, final.Longitude ,final.State,final.Confirmed):\n",
        "        folium.features.CircleMarker(\n",
        "            [Latitude,Longitude],\n",
        "            radius=Confirmed/20000,\n",
        "            popup = ('<strong>State</strong>: ' + str(State).capitalize() + '<br>'\n",
        "                                '<strong>Confirmed Cases</strong>: ' + str(Confirmed) + '<br>'),\n",
        "            color='yellow',\n",
        "            fill=True,\n",
        "            fill_color='red',\n",
        "            fill_opacity=0.6\n",
        "        ).add_to(m)\n"
      ],
      "metadata": {
        "id": "DYc9rgsHTCqy"
      },
      "execution_count": null,
      "outputs": []
    },
    {
      "cell_type": "code",
      "source": [
        "tri = pd.read_csv(\"case_time_series.csv\")\n",
        "t = tri.tail(1)\n",
        "t['country'] = \"India\"\n",
        "t['Total Confirmed'][282]\n",
        "fig = go.Figure()\n",
        "fig.add_trace(go.Bar(\n",
        "    y=t[\"country\"],\n",
        "    x=t[\"Total Confirmed\"],\n",
        "    name = \"Confirmed\",\n",
        "    orientation='h',\n",
        "    marker=dict(\n",
        "        color='rgba(2, 199, 99, 0.6)',\n",
        "        line=dict(color='rgba(2, 199, 99,0.6)', width=0.5)\n",
        "    )\n",
        "    \n",
        "))\n",
        "fig.add_trace(go.Bar(\n",
        "    y=t[\"country\"],\n",
        "    x=t[\"Total Recovered\"],\n",
        "    name = \"Recovered\",\n",
        "    orientation='h',\n",
        "    marker=dict(\n",
        "        color='rgba(246, 78, 139, 0.6)',\n",
        "        line=dict(color='rgba(246, 78, 139, 1.0)', width=0.5)\n",
        "    )\n",
        "))\n",
        "fig.add_trace(go.Bar(\n",
        "    y=t[\"country\"],\n",
        "    x=t[\"Total Deceased\"],\n",
        "    name = \"Deceased\",\n",
        "    orientation='h',\n",
        "    marker=dict(\n",
        "        color='rgba(58, 71, 80, 0.6)',\n",
        "        line=dict(color='rgba(58, 71, 80, 1.0)', width=0.5)\n",
        "    )\n",
        "    \n",
        "))\n",
        "\n",
        "\n",
        "fig.update_layout(barmode='stack')\n",
        "fig.show()\n"
      ],
      "metadata": {
        "id": "52J_LApYTFIn"
      },
      "execution_count": null,
      "outputs": []
    },
    {
      "cell_type": "code",
      "source": [
        "fig = px.bar(tri,x='Date_YMD', y='Daily Confirmed', orientation='v',title = \"Daily new COVID19 cases in India\" )\n",
        "fig.update_layout(bargap = 0)\n",
        "fig.show()"
      ],
      "metadata": {
        "id": "CxgAxivNTLM6"
      },
      "execution_count": null,
      "outputs": []
    },
    {
      "cell_type": "markdown",
      "source": [
        "SPREAD IN INDIA OVERTIME"
      ],
      "metadata": {
        "id": "SAuc6lNETQAm"
      }
    },
    {
      "cell_type": "code",
      "source": [
        "l = [tri.columns.to_list()[4] , tri.columns.to_list()[6] ,tri.columns.to_list()[8]]\n",
        "fig = go.Figure()\n",
        "\n",
        "for column in l:\n",
        "    fig.add_trace(\n",
        "        go.Scatter(\n",
        "            x = tri['Date'],\n",
        "            y = tri[column],\n",
        "            name = column,\n",
        "        )\n",
        "    )\n",
        "fig.update_layout(\n",
        "    updatemenus=[go.layout.Updatemenu(\n",
        "        active=0,\n",
        "        buttons=list(\n",
        "            [dict(label = 'All',\n",
        "                  method = 'update',\n",
        "                  args = [{'visible': [True, True,True]},\n",
        "                          {'title': 'All',\n",
        "                           'showlegend':True}]),\n",
        "             dict(label = 'ConfirmedCases',\n",
        "                  method = 'update',\n",
        "                  args = [{'visible': [True, False,False]}, \n",
        "                          {'title': 'ConfirmedCases',\n",
        "                           'showlegend':True}]),\n",
        "             dict(label = 'Recovered',\n",
        "                  method = 'update',\n",
        "                  args = [{'visible': [False,True,False]},\n",
        "                          {'title': 'Recovered',\n",
        "                           'showlegend':True}]),\n",
        "              dict(label = 'Fatalities',\n",
        "                  method = 'update',\n",
        "                  args = [{'visible': [False,False,True]},\n",
        "                          {'title': 'Fatalities',\n",
        "                           'showlegend':True}]),\n",
        "            ])\n",
        "        )\n",
        "    ])\n",
        "\n",
        "fig.show()\n"
      ],
      "metadata": {
        "id": "a9oUO0vnTS0d"
      },
      "execution_count": null,
      "outputs": []
    },
    {
      "cell_type": "markdown",
      "source": [
        "PREDICT NO. OF CONFIRMED CASES IN INDIA FOR FIRST WEEK OF NOVEMBER\n"
      ],
      "metadata": {
        "id": "0i84JE7OThpj"
      }
    },
    {
      "cell_type": "code",
      "source": [
        "##fit a logistic curve for total confirmed cases in India. Then predict from 1/11/20 to 7/11/20\n",
        "test = tri.tail(7)\n",
        "tr = tri[0:276]"
      ],
      "metadata": {
        "id": "vN4pJibyTeOI"
      },
      "execution_count": null,
      "outputs": []
    },
    {
      "cell_type": "code",
      "source": [
        "##no. of days from first case\n",
        "x_data = range(len(tr.index))\n",
        "x = [number for number in x_data]\n",
        "y_data = tr['Total Confirmed']"
      ],
      "metadata": {
        "id": "oLRyUiewTnHh"
      },
      "execution_count": null,
      "outputs": []
    },
    {
      "cell_type": "code",
      "source": [
        "def log_curve(x, k, x_0, ymax):\n",
        "    return ymax / (1 + np.exp(-k*(x-x_0)))"
      ],
      "metadata": {
        "id": "wqB6tF1ITq8R"
      },
      "execution_count": null,
      "outputs": []
    },
    {
      "cell_type": "code",
      "source": [
        "# Fit the curve\n",
        "parameters, v_cov = curve_fit(log_curve, x, y_data)\n",
        "print(\" \", parameters,\"\\n\", v_cov)"
      ],
      "metadata": {
        "id": "1aVSLVeQTuTk"
      },
      "execution_count": null,
      "outputs": []
    },
    {
      "cell_type": "code",
      "source": [
        "k = parameters[0]\n",
        "x_0 = parameters[1]\n",
        "ymax = parameters[2]"
      ],
      "metadata": {
        "id": "OV1g6WzlTxEp"
      },
      "execution_count": null,
      "outputs": []
    },
    {
      "cell_type": "code",
      "source": [
        "y_fitted = log_curve(x_data, k, x_0, ymax)"
      ],
      "metadata": {
        "id": "1-F8QI2OT0iF"
      },
      "execution_count": null,
      "outputs": []
    },
    {
      "cell_type": "code",
      "source": [
        "fig=go.Figure()\n",
        "fig.add_trace(go.Scatter(x=x,\n",
        "                         y=y_data,\n",
        "                         mode='markers',\n",
        "                         name = 'no. of  cases')\n",
        "             )\n",
        "\n",
        "\n",
        "fig.add_trace(go.Scatter(x=x,\n",
        "                         y=y_fitted,\n",
        "                         mode='lines',\n",
        "                         name='fitted',\n",
        "                        ))\n",
        "\n",
        "fig.show()"
      ],
      "metadata": {
        "id": "eCl0IPBmT3wX"
      },
      "execution_count": null,
      "outputs": []
    },
    {
      "cell_type": "code",
      "source": [
        "xtest = np.arange(276,283,1)\n",
        "ytest = test[\"Total Confirmed\"]\n",
        "y_fit = log_curve(xtest, k, x_0, ymax)\n",
        "fig=go.Figure()\n",
        "fig.add_trace(go.Scatter(x=xtest,\n",
        "                         y=ytest,\n",
        "                         mode='lines',\n",
        "                         name = 'No. of cases')\n",
        "             )\n",
        "\n",
        "# regression data\n",
        "fig.add_trace(go.Scatter(x=xtest,\n",
        "                         y=y_fit,\n",
        "                         mode='lines',\n",
        "                         name='Predicted',\n",
        "                         line=dict(color='firebrick', width=2)\n",
        "                        ))\n",
        "\n",
        "fig.show()"
      ],
      "metadata": {
        "id": "Xse1djErT8pr"
      },
      "execution_count": null,
      "outputs": []
    },
    {
      "cell_type": "code",
      "source": [
        "##fitting metrics\n",
        "MSLE = mean_squared_log_error(ytest,y_fit)\n",
        "print(\"Mean squared log error (MSLE): \", '{:.6f}'.format(MSLE))\n",
        "print(\"R2 score: \", '{:.3f}'.format(r2_score(ytest,y_fit)))"
      ],
      "metadata": {
        "id": "LMn5aObyUC3X"
      },
      "execution_count": null,
      "outputs": []
    },
    {
      "cell_type": "markdown",
      "source": [
        "COVID19 SPREAD IN INDIA: STATE-WISE"
      ],
      "metadata": {
        "id": "gTeIR8bKUFr-"
      }
    },
    {
      "cell_type": "code",
      "source": [
        "d1 = pd.read_csv('owid-covid-data.csv')\n",
        "import os\n",
        "d1['COVID_SPREAD'] = 'Recovered: ' + d1['Recovered'].astype(str) +'  Deceased: ' + d1['Deaths'].astype(str) \n",
        "d11 = d1.drop(0,)\n",
        "d11[\"State\"]= d11[\"State\"].replace({\"Delhi\": \"NCT of Delhi\", \"Jammu and Kashmir\" : \"Jammu & Kashmir\" , \"Arunachal Pradesh\" : \"Arunanchal Pradesh\", \"Andaman and Nicobar Islands\" : \"Andaman & Nicobar Island\"})\n",
        "import json\n",
        "states = json.load(open(\"states_india.geojson\", 'r'))\n",
        "state_id_map = {}\n",
        "for feature in states['features']:\n",
        "    feature['id'] = feature['properties']['state_code']\n",
        "    state_id_map[feature['properties']['st_nm']] = feature['id']\n",
        "\n",
        "del state_id_map['Dadara & Nagar Havelli']\n",
        "del state_id_map['Daman & Diu']\n",
        "d11['id']  = d11['State'].apply(lambda x : state_id_map[x])\n",
        "d11['Mortality Rate%'] = round((d11.Deaths/d11.Confirmed)*100,2)"
      ],
      "metadata": {
        "id": "YPBJX7EnUJk0"
      },
      "execution_count": null,
      "outputs": []
    },
    {
      "cell_type": "code",
      "source": [
        "figg = px.choropleth(d11, geojson=states, color=\"Confirmed\",\n",
        "                    locations='id', \n",
        "                    hover_name='State',\n",
        "                    hover_data=[\"Mortality Rate%\",'Confirmed','Recovered','Deaths','Active'],\n",
        "                    title='COVID19 SPREAD IN INDIA'\n",
        "                   )\n",
        "figg.update_geos(fitbounds=\"locations\", visible=True)\n",
        "figg.update_geos(projection_type=\"orthographic\")\n",
        "figg.update_layout(height=600,margin={\"r\":0,\"t\":30,\"l\":0,\"b\":30})\n",
        "figg.show()"
      ],
      "metadata": {
        "id": "ZXmhedfrURcd"
      },
      "execution_count": null,
      "outputs": []
    },
    {
      "cell_type": "code",
      "source": [
        "d111 = d11.sort_values(by = \"Mortality Rate%\",ascending = False).head(10)\n",
        "f= px.bar(d111, x=\"State\", y=\"Mortality Rate%\")\n",
        "f.show()"
      ],
      "metadata": {
        "id": "nxDFNsFDUWLU"
      },
      "execution_count": null,
      "outputs": []
    },
    {
      "cell_type": "code",
      "source": [
        "import plotly.graph_objects as go\n",
        "ds = d1.drop(0,)\n",
        "ds = ds.sort_values(by = 'Confirmed')\n",
        "dss = ds.tail(10)\n",
        "\n",
        "fig = go.Figure()\n",
        "fig.add_trace(go.Bar(\n",
        "    y=dss[\"State\"],\n",
        "    x=dss[\"Deaths\"],\n",
        "    name = \"Deceased\",\n",
        "    orientation='h',\n",
        "    marker=dict(\n",
        "        color='rgba(2, 199, 99, 0.6)',\n",
        "        line=dict(color='rgba(2, 199, 99,0.6)', width=3)\n",
        "    )\n",
        "    \n",
        "))\n",
        "fig.add_trace(go.Bar(\n",
        "    y=dss[\"State\"],\n",
        "    x=dss[\"Recovered\"],\n",
        "    name = \"Recovered\",\n",
        "    orientation='h',\n",
        "    marker=dict(\n",
        "        color='rgba(246, 78, 139, 0.6)',\n",
        "        line=dict(color='rgba(246, 78, 139, 1.0)', width=3)\n",
        "    )\n",
        "))\n",
        "fig.add_trace(go.Bar(\n",
        "    y=dss[\"State\"],\n",
        "    x=dss[\"Confirmed\"],\n",
        "    name = \"Confirmed\",\n",
        "    orientation='h',\n",
        "    marker=dict(\n",
        "        color='rgba(58, 71, 80, 0.6)',\n",
        "        line=dict(color='rgba(58, 71, 80, 1.0)', width=3)\n",
        "    )\n",
        "    \n",
        "))\n",
        "\n",
        "\n",
        "fig.update_layout(barmode='stack')\n",
        "fig.show()\n"
      ],
      "metadata": {
        "id": "dPOO3Z6SUZWu"
      },
      "execution_count": null,
      "outputs": []
    },
    {
      "cell_type": "code",
      "source": [
        "##top5 states where testing is maximum\n",
        "tes = pd.read_csv(\"StatewiseTestingDetails (1).csv\")\n",
        "tes1 = tes[tes['TotalSamples' ].notnull()]\n",
        "tes2 = tes1[tes1['Positive'].notnull()]\n",
        "tess = tes.groupby('State' ,as_index=False)[['TotalSamples','Positive']].max()\n",
        "tess = tess.sort_values(by = 'TotalSamples').tail(10)\n",
        "import plotly.graph_objects as go\n",
        "\n",
        "fig = go.Figure()\n",
        "fig.add_trace(go.Bar(\n",
        "    y=tess[\"State\"],\n",
        "    x=tess[\"TotalSamples\"],\n",
        "    name = \"Total tested\",\n",
        "    orientation='h',\n",
        "    marker=dict(\n",
        "        color='rgba(1130, 199, 99, 0.6)',\n",
        "        line=dict(color='rgba(1130, 199, 99, 0.6)', width=3)\n",
        "    )\n",
        "))\n",
        "fig.add_trace(go.Bar(\n",
        "    y=tess[\"State\"],\n",
        "    x=tess[\"Positive\"],\n",
        "    name = \"Positive\",\n",
        "    orientation='h',\n",
        "    marker=dict(\n",
        "        color='rgba(900, 71, 80, 0.6)',\n",
        "        line=dict(color='rgba(900, 71, 80, 1.0)', width=3)\n",
        "    )\n",
        "))\n",
        "\n",
        "fig.update_layout(barmode='stack')\n",
        "fig.show()\n"
      ],
      "metadata": {
        "id": "rDvo1q7xUfhg"
      },
      "execution_count": null,
      "outputs": []
    },
    {
      "cell_type": "code",
      "source": [
        "pos = pd.read_csv(\"owid-covid-data.csv\")\n",
        "fig = px.line(pos, x=\"day\", y=\"positive_ratio\", title='Test Positivity ratio for Mar-May')\n",
        "fig.show()\n"
      ],
      "metadata": {
        "id": "FsGOyd70UmfF"
      },
      "execution_count": null,
      "outputs": []
    },
    {
      "cell_type": "markdown",
      "source": [
        "Thank You"
      ],
      "metadata": {
        "id": "kA-_LgxDUusS"
      }
    }
  ]
}